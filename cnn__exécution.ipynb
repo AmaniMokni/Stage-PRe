{
  "nbformat": 4,
  "nbformat_minor": 0,
  "metadata": {
    "kernelspec": {
      "display_name": "Python 3",
      "language": "python",
      "name": "python3"
    },
    "language_info": {
      "codemirror_mode": {
        "name": "ipython",
        "version": 3
      },
      "file_extension": ".py",
      "mimetype": "text/x-python",
      "name": "python",
      "nbconvert_exporter": "python",
      "pygments_lexer": "ipython3",
      "version": "3.8.5"
    },
    "colab": {
      "name": "cnn_ exécution.ipynb",
      "provenance": []
    }
  },
  "cells": [
    {
      "cell_type": "code",
      "metadata": {
        "id": "qsgK2Pt6U5rD"
      },
      "source": [
        "import numpy as np\n",
        "import matplotlib.pyplot as plt\n",
        "from collections import namedtuple as nt"
      ],
      "execution_count": null,
      "outputs": []
    },
    {
      "cell_type": "code",
      "metadata": {
        "id": "3Qo9AZXWU5rE"
      },
      "source": [
        "Data = nt(\"Data\", \"x_train y_train x_valid y_valid x_test y_test\")"
      ],
      "execution_count": null,
      "outputs": []
    },
    {
      "cell_type": "code",
      "metadata": {
        "id": "yVk0Ilu1U5rF"
      },
      "source": [
        "def visualize_data(data):\n",
        "    images_to_show = 36\n",
        "    per_row = 12\n",
        "    fig = plt.figure(figsize=(20,5))\n",
        "    for i in range(images_to_show):\n",
        "        pos = (i // per_row, ((i % per_row) + per_row) % per_row)\n",
        "        ax = plt.subplot2grid((int(images_to_show / per_row), per_row),\n",
        "                              pos, xticks=[], yticks=[])\n",
        "        ax.imshow(np.squeeze(data.x_train[i]))\n",
        "    plt.show()"
      ],
      "execution_count": null,
      "outputs": []
    },
    {
      "cell_type": "code",
      "metadata": {
        "id": "9H_bMBv1U5rF"
      },
      "source": [
        "def visualize_training(hist):\n",
        "    plt.plot(hist.history['accuracy'])\n",
        "    plt.plot(hist.history['val_accuracy'])\n",
        "    plt.title('accuracy')\n",
        "    plt.ylabel('accuracy')\n",
        "    plt.xlabel('epochs')\n",
        "    plt.legend(['training', 'validation'], loc='lower right')\n",
        "    plt.show()\n",
        "    \n",
        "    # A chart showing our training vs validation loss\n",
        "    plt.plot(hist.history['loss'])\n",
        "    plt.plot(hist.history['val_loss'])\n",
        "    plt.title('loss')\n",
        "    plt.ylabel('loss')\n",
        "    plt.xlabel('epochs')\n",
        "    plt.legend(['training', 'validation'], loc='upper right')\n",
        "    plt.show()\n"
      ],
      "execution_count": null,
      "outputs": []
    },
    {
      "cell_type": "code",
      "metadata": {
        "id": "W1322YEeU5rG"
      },
      "source": [
        "from tensorflow.keras.models import Sequential\n",
        "from keras.layers import Dense, Activation, Flatten, Dropout\n",
        "from keras.layers import Conv2D, MaxPooling2D\n",
        "from tensorflow.keras.optimizers import RMSprop\n",
        "from tensorflow.keras.utils import to_categorical\n",
        "from keras.callbacks import ModelCheckpoint\n",
        "from keras.datasets import cifar10"
      ],
      "execution_count": null,
      "outputs": []
    },
    {
      "cell_type": "code",
      "metadata": {
        "id": "2OKkYH6-U5rG"
      },
      "source": [
        "def preprocess(data, categories):\n",
        "    x_train = data.x_train.astype(\"float32\") / 255\n",
        "    x_test = data.x_test.astype(\"float32\") / 255\n",
        "    y_train = to_categorical(data.y_train, categories)\n",
        "    y_test = to_categorical(data.y_test, categories)    \n",
        "    return Data(x_train[5000:], y_train[5000:],\n",
        "                x_train[:5000], y_train[:5000],\n",
        "                x_test, y_test)\n"
      ],
      "execution_count": null,
      "outputs": []
    },
    {
      "cell_type": "code",
      "metadata": {
        "id": "iRkRjoF2U5rG"
      },
      "source": [
        "(x_train, y_train), (x_test, y_test) = cifar10.load_data()\n",
        "data = Data(x_train, y_train, None, None, x_test, y_test)"
      ],
      "execution_count": null,
      "outputs": []
    },
    {
      "cell_type": "code",
      "metadata": {
        "id": "0-_3yEsnU5rH",
        "outputId": "cd1f287b-f763-4f26-baf4-56b4f751826f"
      },
      "source": [
        "categories = len(np.unique(data.y_train))\n",
        "print(\"Shape of x_train pre-processing: \", data.x_train.shape)\n",
        "print(\"Shape of y_train pre-processing: \", data.y_train.shape)\n",
        "processed_data = preprocess(data, categories)\n",
        "print(\"Shape of x_train post-processing: \", processed_data.x_train.shape)\n",
        "print(\"Shape of y_train post-processing: \", processed_data.y_train.shape)\n",
        "print(\"Shape of x_valid post-processing: \", processed_data.x_valid.shape)\n",
        "print(\"Shape of y_valid post-processing: \", processed_data.y_valid.shape)\n",
        "print(\"Shape of x_test post-processing: \", processed_data.x_test.shape)\n",
        "print(\"Shape of y_test post-processing: \", processed_data.y_test.shape)"
      ],
      "execution_count": null,
      "outputs": [
        {
          "output_type": "stream",
          "text": [
            "Shape of x_train pre-processing:  (50000, 32, 32, 3)\n",
            "Shape of y_train pre-processing:  (50000, 1)\n",
            "Shape of x_train post-processing:  (45000, 32, 32, 3)\n",
            "Shape of y_train post-processing:  (45000, 10)\n",
            "Shape of x_valid post-processing:  (5000, 32, 32, 3)\n",
            "Shape of y_valid post-processing:  (5000, 10)\n",
            "Shape of x_test post-processing:  (10000, 32, 32, 3)\n",
            "Shape of y_test post-processing:  (10000, 10)\n"
          ],
          "name": "stdout"
        }
      ]
    },
    {
      "cell_type": "code",
      "metadata": {
        "id": "8RpuLjzqU5rI"
      },
      "source": [
        "\n",
        "def build_cnn(data, categories):\n",
        "    # Create model architecture\n",
        "    model = Sequential()\n",
        "    model.add(Conv2D(filters=16, kernel_size=2, padding=\"same\", activation=\"relu\",\n",
        "                     input_shape=data.x_train.shape[1:]))\n",
        "    model.add(MaxPooling2D(pool_size=2))\n",
        "    model.add(Conv2D(filters=32, kernel_size=2, padding=\"same\", activation=\"relu\"))\n",
        "    model.add(MaxPooling2D(pool_size=2))\n",
        "    model.add(Conv2D(filters=64, kernel_size=2, padding=\"same\", activation=\"relu\"))\n",
        "    model.add(MaxPooling2D(pool_size=2))\n",
        "    model.add(Dropout(0.3))\n",
        "    model.add(Flatten())\n",
        "    model.add(Dense(500, activation=\"relu\"))\n",
        "    model.add(Dropout(0.4))\n",
        "    model.add(Dense(categories, activation=\"softmax\"))\n",
        "    \n",
        "    # Compile the model\n",
        "    model.compile(loss=\"categorical_crossentropy\", optimizer=\"rmsprop\",\n",
        "                  metrics=[\"accuracy\"])\n",
        "    return model"
      ],
      "execution_count": null,
      "outputs": []
    },
    {
      "cell_type": "code",
      "metadata": {
        "id": "C9jrnjjBU5rI",
        "outputId": "c8d7c3f2-c7cb-484a-c9af-80ecfea7b32d"
      },
      "source": [
        "cnn = build_cnn(processed_data, categories)\n",
        "print(\"CNN architecture:\")\n",
        "cnn.summary()"
      ],
      "execution_count": null,
      "outputs": [
        {
          "output_type": "stream",
          "text": [
            "CNN architecture:\n",
            "Model: \"sequential\"\n",
            "_________________________________________________________________\n",
            "Layer (type)                 Output Shape              Param #   \n",
            "=================================================================\n",
            "conv2d (Conv2D)              (None, 32, 32, 16)        208       \n",
            "_________________________________________________________________\n",
            "max_pooling2d (MaxPooling2D) (None, 16, 16, 16)        0         \n",
            "_________________________________________________________________\n",
            "conv2d_1 (Conv2D)            (None, 16, 16, 32)        2080      \n",
            "_________________________________________________________________\n",
            "max_pooling2d_1 (MaxPooling2 (None, 8, 8, 32)          0         \n",
            "_________________________________________________________________\n",
            "conv2d_2 (Conv2D)            (None, 8, 8, 64)          8256      \n",
            "_________________________________________________________________\n",
            "max_pooling2d_2 (MaxPooling2 (None, 4, 4, 64)          0         \n",
            "_________________________________________________________________\n",
            "dropout (Dropout)            (None, 4, 4, 64)          0         \n",
            "_________________________________________________________________\n",
            "flatten (Flatten)            (None, 1024)              0         \n",
            "_________________________________________________________________\n",
            "dense (Dense)                (None, 500)               512500    \n",
            "_________________________________________________________________\n",
            "dropout_1 (Dropout)          (None, 500)               0         \n",
            "_________________________________________________________________\n",
            "dense_1 (Dense)              (None, 10)                5010      \n",
            "=================================================================\n",
            "Total params: 528,054\n",
            "Trainable params: 528,054\n",
            "Non-trainable params: 0\n",
            "_________________________________________________________________\n"
          ],
          "name": "stdout"
        }
      ]
    },
    {
      "cell_type": "code",
      "metadata": {
        "id": "AYwfQlwEU5rJ"
      },
      "source": [
        "cnn_weights_path = \"saved_weights/cifar10_cnn_best.hdf5\""
      ],
      "execution_count": null,
      "outputs": []
    },
    {
      "cell_type": "code",
      "metadata": {
        "id": "LpKtcXzoU5rJ",
        "outputId": "eda08226-3ae8-489d-dd23-f8f721905479"
      },
      "source": [
        "checkpointer_cnn = ModelCheckpoint(cnn_weights_path, verbose=1, save_best_only=True)\n",
        "hist_cnn = cnn.fit(processed_data.x_train, processed_data.y_train, batch_size=32, \n",
        "                   epochs=20, validation_data=(processed_data.x_valid, \n",
        "                                               processed_data.y_valid),\n",
        "                   callbacks=[checkpointer_cnn])\n"
      ],
      "execution_count": null,
      "outputs": [
        {
          "output_type": "stream",
          "text": [
            "Epoch 1/20\n",
            "1407/1407 [==============================] - 39s 11ms/step - loss: 1.5925 - accuracy: 0.4209 - val_loss: 1.3229 - val_accuracy: 0.5234\n",
            "\n",
            "Epoch 00001: val_loss improved from inf to 1.32290, saving model to saved_weights\\cifar10_cnn_best.hdf5\n",
            "Epoch 2/20\n",
            "1407/1407 [==============================] - 19s 13ms/step - loss: 1.2713 - accuracy: 0.5453 - val_loss: 1.1804 - val_accuracy: 0.5958\n",
            "\n",
            "Epoch 00002: val_loss improved from 1.32290 to 1.18045, saving model to saved_weights\\cifar10_cnn_best.hdf5\n",
            "Epoch 3/20\n",
            "1407/1407 [==============================] - 19s 13ms/step - loss: 1.1479 - accuracy: 0.5965 - val_loss: 1.0344 - val_accuracy: 0.6398\n",
            "\n",
            "Epoch 00003: val_loss improved from 1.18045 to 1.03445, saving model to saved_weights\\cifar10_cnn_best.hdf5\n",
            "Epoch 4/20\n",
            "1407/1407 [==============================] - 23s 16ms/step - loss: 1.0820 - accuracy: 0.6209 - val_loss: 1.2568 - val_accuracy: 0.5842\n",
            "\n",
            "Epoch 00004: val_loss did not improve from 1.03445\n",
            "Epoch 5/20\n",
            "1407/1407 [==============================] - 23s 17ms/step - loss: 1.0356 - accuracy: 0.6390 - val_loss: 0.9437 - val_accuracy: 0.6822\n",
            "\n",
            "Epoch 00005: val_loss improved from 1.03445 to 0.94367, saving model to saved_weights\\cifar10_cnn_best.hdf5\n",
            "Epoch 6/20\n",
            "1407/1407 [==============================] - 19s 13ms/step - loss: 1.0110 - accuracy: 0.6515 - val_loss: 1.1755 - val_accuracy: 0.6246\n",
            "\n",
            "Epoch 00006: val_loss did not improve from 0.94367\n",
            "Epoch 7/20\n",
            "1407/1407 [==============================] - 18s 13ms/step - loss: 0.9994 - accuracy: 0.6568 - val_loss: 1.0118 - val_accuracy: 0.6480\n",
            "\n",
            "Epoch 00007: val_loss did not improve from 0.94367\n",
            "Epoch 8/20\n",
            "1407/1407 [==============================] - 19s 13ms/step - loss: 0.9987 - accuracy: 0.6610 - val_loss: 0.9433 - val_accuracy: 0.6816\n",
            "\n",
            "Epoch 00008: val_loss improved from 0.94367 to 0.94327, saving model to saved_weights\\cifar10_cnn_best.hdf5\n",
            "Epoch 9/20\n",
            "1407/1407 [==============================] - 19s 14ms/step - loss: 1.0050 - accuracy: 0.6610 - val_loss: 1.0207 - val_accuracy: 0.6614\n",
            "\n",
            "Epoch 00009: val_loss did not improve from 0.94327\n",
            "Epoch 10/20\n",
            "1407/1407 [==============================] - 19s 14ms/step - loss: 1.0161 - accuracy: 0.6584 - val_loss: 1.3910 - val_accuracy: 0.6006\n",
            "\n",
            "Epoch 00010: val_loss did not improve from 0.94327\n",
            "Epoch 11/20\n",
            "1407/1407 [==============================] - 19s 14ms/step - loss: 1.0308 - accuracy: 0.6561 - val_loss: 1.0192 - val_accuracy: 0.6692\n",
            "\n",
            "Epoch 00011: val_loss did not improve from 0.94327\n",
            "Epoch 12/20\n",
            "1407/1407 [==============================] - 19s 13ms/step - loss: 1.0475 - accuracy: 0.6529 - val_loss: 1.0882 - val_accuracy: 0.6322\n",
            "\n",
            "Epoch 00012: val_loss did not improve from 0.94327\n",
            "Epoch 13/20\n",
            "1407/1407 [==============================] - 19s 14ms/step - loss: 1.0589 - accuracy: 0.6450 - val_loss: 0.9848 - val_accuracy: 0.6858\n",
            "\n",
            "Epoch 00013: val_loss did not improve from 0.94327\n",
            "Epoch 14/20\n",
            "1407/1407 [==============================] - 20s 14ms/step - loss: 1.0868 - accuracy: 0.6410 - val_loss: 1.5174 - val_accuracy: 0.5630\n",
            "\n",
            "Epoch 00014: val_loss did not improve from 0.94327\n",
            "Epoch 15/20\n",
            "1407/1407 [==============================] - 20s 14ms/step - loss: 1.1117 - accuracy: 0.6330 - val_loss: 1.1980 - val_accuracy: 0.6184\n",
            "\n",
            "Epoch 00015: val_loss did not improve from 0.94327\n",
            "Epoch 16/20\n",
            "1407/1407 [==============================] - 21s 15ms/step - loss: 1.1190 - accuracy: 0.6310 - val_loss: 1.1974 - val_accuracy: 0.6412\n",
            "\n",
            "Epoch 00016: val_loss did not improve from 0.94327\n",
            "Epoch 17/20\n",
            "1407/1407 [==============================] - 20s 14ms/step - loss: 1.1418 - accuracy: 0.6224 - val_loss: 1.2769 - val_accuracy: 0.5996\n",
            "\n",
            "Epoch 00017: val_loss did not improve from 0.94327\n",
            "Epoch 18/20\n",
            "1407/1407 [==============================] - 19s 14ms/step - loss: 1.1490 - accuracy: 0.6189 - val_loss: 1.0901 - val_accuracy: 0.6400\n",
            "\n",
            "Epoch 00018: val_loss did not improve from 0.94327\n",
            "Epoch 19/20\n",
            "1407/1407 [==============================] - 19s 14ms/step - loss: 1.1747 - accuracy: 0.6145 - val_loss: 2.9302 - val_accuracy: 0.4874\n",
            "\n",
            "Epoch 00019: val_loss did not improve from 0.94327\n",
            "Epoch 20/20\n",
            "1407/1407 [==============================] - 19s 14ms/step - loss: 1.1916 - accuracy: 0.6074 - val_loss: 0.9988 - val_accuracy: 0.6652\n",
            "\n",
            "Epoch 00020: val_loss did not improve from 0.94327\n"
          ],
          "name": "stdout"
        }
      ]
    },
    {
      "cell_type": "code",
      "metadata": {
        "id": "M2dabYV6U5rJ",
        "outputId": "8ba7cbc4-107e-4360-83a0-602f748a8f9f"
      },
      "source": [
        "visualize_training(hist_cnn)\n"
      ],
      "execution_count": null,
      "outputs": [
        {
          "output_type": "display_data",
          "data": {
            "text/plain": [
              "<Figure size 432x288 with 1 Axes>"
            ],
            "image/png": "[encoded data removed]"
          },
          "metadata": {
            "tags": [],
            "needs_background": "light"
          }
        },
        {
          "output_type": "display_data",
          "data": {
            "text/plain": [
              "<Figure size 432x288 with 1 Axes>"
            ],
            "image/png": "[encoded data removed]"
          },
          "metadata": {
            "tags": [],
            "needs_background": "light"
          }
        }
      ]
    },
    {
      "cell_type": "markdown",
      "metadata": {
        "id": "7hnVn-M4U5rK"
      },
      "source": [
        ""
      ]
    },
    {
      "cell_type": "code",
      "metadata": {
        "id": "fBZTf8ehU5rK",
        "outputId": "ed522ac6-ed82-4e3a-e798-406e7db730c2"
      },
      "source": [
        "import tensorflow as tf\n",
        "tf.__version__"
      ],
      "execution_count": null,
      "outputs": [
        {
          "output_type": "execute_result",
          "data": {
            "text/plain": [
              "'2.6.0-dev20210618'"
            ]
          },
          "metadata": {
            "tags": []
          },
          "execution_count": 27
        }
      ]
    },
    {
      "cell_type": "code",
      "metadata": {
        "id": "SvB78TplU5rK"
      },
      "source": [
        "cnn.load_weights(cnn_weights_path)\n",
        "score_cnn = cnn.evaluate(processed_data.x_test, processed_data.y_test, verbose=0)"
      ],
      "execution_count": null,
      "outputs": []
    },
    {
      "cell_type": "code",
      "metadata": {
        "id": "IVutjAC0U5rK",
        "outputId": "78140b33-951c-4427-81e2-e33dcaecf79c"
      },
      "source": [
        "print(\"Accuracy cnn: {0:.2f}%\".format(score_cnn[1] * 100))"
      ],
      "execution_count": null,
      "outputs": [
        {
          "output_type": "stream",
          "text": [
            "Accuracy cnn: 66.99%\n"
          ],
          "name": "stdout"
        }
      ]
    },
    {
      "cell_type": "code",
      "metadata": {
        "id": "CU2fjjUdU5rL"
      },
      "source": [
        "from keras.layers import BatchNormalization\n",
        "from tensorflow.keras.optimizers import RMSprop\n",
        "from keras.callbacks import LearningRateScheduler, EarlyStopping\n",
        "from keras.preprocessing.image import ImageDataGenerator\n",
        "from keras import regularizers"
      ],
      "execution_count": null,
      "outputs": []
    },
    {
      "cell_type": "code",
      "metadata": {
        "id": "yVShubt-U5rL"
      },
      "source": [
        "def optimized_preprocess(data, categories):\n",
        "    # Z-score normalization of data\n",
        "    mean = np.mean(data.x_train, axis=(0,1,2,3))\n",
        "    std = np.std(data.x_train, axis=(0,1,2,3))\n",
        "    x_train = ((data.x_train - mean) / (std + 1e-7)).astype(\"float32\")\n",
        "    x_test = ((data.x_test - mean) / (std + 1e-7)).astype(\"float32\")\n",
        "    y_train = to_categorical(data.y_train, categories)\n",
        "    y_test = to_categorical(data.y_test, categories)    \n",
        "    return Data(x_train[5000:], y_train[5000:],\n",
        "                x_train[:5000], y_train[:5000],\n",
        "                x_test, y_test)"
      ],
      "execution_count": null,
      "outputs": []
    },
    {
      "cell_type": "code",
      "metadata": {
        "id": "YwS_Y8rgU5rL"
      },
      "source": [
        "def learningrate_schedule(epoch):\n",
        "    # We use a standard learning rate of 0.001\n",
        "    # From the 51st epoch, we decrease it to 0.0007\n",
        "    # From the 101st epoch, we decrease it further to 0.0005\n",
        "    # From the 1356h epoch, we decrease it further to 0.0003\n",
        "    # From the 176th epoch, we decrease it further to 0.0001\n",
        "    rate = 0.001\n",
        "    if epoch > 175:\n",
        "        rate = 0.0001\n",
        "    elif epoch > 135:\n",
        "        rate = 0.0003\n",
        "    elif epoch > 100:\n",
        "        rate = 0.0005\n",
        "    elif epoch > 50:\n",
        "        rate = 0.0007    \n",
        "    return rate"
      ],
      "execution_count": null,
      "outputs": []
    },
    {
      "cell_type": "code",
      "metadata": {
        "id": "doFZly2pU5rL"
      },
      "source": [
        "def build_optimized_cnn(data, categories):\n",
        "    weight_decay = 1e-4\n",
        "    model = Sequential()\n",
        "    model.add(Conv2D(32, kernel_size=3, padding=\"same\", activation=\"elu\",\n",
        "                     kernel_regularizer=regularizers.l2(weight_decay), input_shape=data.x_train.shape[1:]))\n",
        "    model.add(BatchNormalization())\n",
        "    model.add(Conv2D(32, kernel_size=3, padding=\"same\", activation=\"elu\",\n",
        "                     kernel_regularizer=regularizers.l2(weight_decay)))\n",
        "    model.add(BatchNormalization())\n",
        "    model.add(MaxPooling2D(pool_size=2))\n",
        "    model.add(Dropout(0.2))\n",
        "\n",
        "    model.add(Conv2D(64, kernel_size=3, padding=\"same\", activation=\"elu\",\n",
        "                     kernel_regularizer=regularizers.l2(weight_decay)))\n",
        "    model.add(BatchNormalization())\n",
        "    model.add(Conv2D(64, kernel_size=3, padding=\"same\", activation=\"elu\",\n",
        "                     kernel_regularizer=regularizers.l2(weight_decay)))\n",
        "    model.add(BatchNormalization())\n",
        "    model.add(MaxPooling2D(pool_size=2))\n",
        "    model.add(Dropout(0.3))\n",
        "\n",
        "    model.add(Conv2D(128, kernel_size=3, padding=\"same\", activation=\"elu\",\n",
        "                     kernel_regularizer=regularizers.l2(weight_decay)))\n",
        "    model.add(BatchNormalization())\n",
        "    model.add(Conv2D(128, kernel_size=3, padding=\"same\", activation=\"elu\",\n",
        "                     kernel_regularizer=regularizers.l2(weight_decay)))\n",
        "    model.add(BatchNormalization())\n",
        "    model.add(MaxPooling2D(pool_size=2))\n",
        "    model.add(Dropout(0.4))\n",
        "\n",
        "    model.add(Flatten())\n",
        "    model.add(Dense(categories, activation=\"softmax\"))\n",
        "\n",
        "    optimized_rmsprop = RMSprop(lr=0.001,decay=1e-6)\n",
        "    model.compile(loss=\"categorical_crossentropy\", optimizer=optimized_rmsprop,\n",
        "                  metrics=[\"accuracy\"])\n",
        "    return model\n"
      ],
      "execution_count": null,
      "outputs": []
    },
    {
      "cell_type": "code",
      "metadata": {
        "id": "zFQzX2lwU5rM"
      },
      "source": [
        "optimized_processed_data = optimized_preprocess(data, categories)"
      ],
      "execution_count": null,
      "outputs": []
    },
    {
      "cell_type": "code",
      "metadata": {
        "id": "lmigyixwU5rM",
        "outputId": "94ef1e85-be38-4fc0-8ba6-596ae03857c3"
      },
      "source": [
        "# Build optimized cnn\n",
        "optimized_cnn = build_optimized_cnn(optimized_processed_data, categories)\n",
        "print(\"Optimized CNN architecture:\")\n",
        "optimized_cnn.summary()"
      ],
      "execution_count": null,
      "outputs": [
        {
          "output_type": "stream",
          "text": [
            "Optimized CNN architecture:\n",
            "Model: \"sequential_1\"\n",
            "_________________________________________________________________\n",
            "Layer (type)                 Output Shape              Param #   \n",
            "=================================================================\n",
            "conv2d_3 (Conv2D)            (None, 32, 32, 32)        896       \n",
            "_________________________________________________________________\n",
            "batch_normalization (BatchNo (None, 32, 32, 32)        128       \n",
            "_________________________________________________________________\n",
            "conv2d_4 (Conv2D)            (None, 32, 32, 32)        9248      \n",
            "_________________________________________________________________\n",
            "batch_normalization_1 (Batch (None, 32, 32, 32)        128       \n",
            "_________________________________________________________________\n",
            "max_pooling2d_3 (MaxPooling2 (None, 16, 16, 32)        0         \n",
            "_________________________________________________________________\n",
            "dropout_2 (Dropout)          (None, 16, 16, 32)        0         \n",
            "_________________________________________________________________\n",
            "conv2d_5 (Conv2D)            (None, 16, 16, 64)        18496     \n",
            "_________________________________________________________________\n",
            "batch_normalization_2 (Batch (None, 16, 16, 64)        256       \n",
            "_________________________________________________________________\n",
            "conv2d_6 (Conv2D)            (None, 16, 16, 64)        36928     \n",
            "_________________________________________________________________\n",
            "batch_normalization_3 (Batch (None, 16, 16, 64)        256       \n",
            "_________________________________________________________________\n",
            "max_pooling2d_4 (MaxPooling2 (None, 8, 8, 64)          0         \n",
            "_________________________________________________________________\n",
            "dropout_3 (Dropout)          (None, 8, 8, 64)          0         \n",
            "_________________________________________________________________\n",
            "conv2d_7 (Conv2D)            (None, 8, 8, 128)         73856     \n",
            "_________________________________________________________________\n",
            "batch_normalization_4 (Batch (None, 8, 8, 128)         512       \n",
            "_________________________________________________________________\n",
            "conv2d_8 (Conv2D)            (None, 8, 8, 128)         147584    \n",
            "_________________________________________________________________\n",
            "batch_normalization_5 (Batch (None, 8, 8, 128)         512       \n",
            "_________________________________________________________________\n",
            "max_pooling2d_5 (MaxPooling2 (None, 4, 4, 128)         0         \n",
            "_________________________________________________________________\n",
            "dropout_4 (Dropout)          (None, 4, 4, 128)         0         \n",
            "_________________________________________________________________\n",
            "flatten_1 (Flatten)          (None, 2048)              0         \n",
            "_________________________________________________________________\n",
            "dense_2 (Dense)              (None, 10)                20490     \n",
            "=================================================================\n",
            "Total params: 309,290\n",
            "Trainable params: 308,394\n",
            "Non-trainable params: 896\n",
            "_________________________________________________________________\n"
          ],
          "name": "stdout"
        },
        {
          "output_type": "stream",
          "text": [
            "C:\\Users\\user\\AppData\\Roaming\\Python\\Python39\\site-packages\\keras\\optimizer_v2\\optimizer_v2.py:355: UserWarning: The `lr` argument is deprecated, use `learning_rate` instead.\n",
            "  warnings.warn(\n"
          ],
          "name": "stderr"
        }
      ]
    },
    {
      "cell_type": "code",
      "metadata": {
        "id": "c0CVYO7MU5rM"
      },
      "source": [
        "# Perform data augmentation\n",
        "datagen = ImageDataGenerator(rotation_range=15, width_shift_range=0.15,\n",
        "                             height_shift_range=0.15, horizontal_flip=True)\n",
        "datagen.fit(optimized_processed_data.x_train)"
      ],
      "execution_count": null,
      "outputs": []
    },
    {
      "cell_type": "code",
      "metadata": {
        "id": "CAfqybz4U5rN",
        "outputId": "1c8bbd54-f1bb-4510-e8f7-d543ae26baed"
      },
      "source": [
        "# Train the optimized cnn\n",
        "batch_size = 64\n",
        "optimized_cnn_path_best = \"saved_weights/optimized_cifar10_cnn_best.hdf5\"\n",
        "checkpointer_optimized_cnn = ModelCheckpoint(optimized_cnn_path_best, verbose=1, \n",
        "                                             save_best_only=True)\n",
        "hist_optimized_cnn = optimized_cnn.fit_generator(datagen.flow(optimized_processed_data.x_train, \n",
        "    optimized_processed_data.y_train, batch_size=batch_size), \n",
        "    steps_per_epoch=optimized_processed_data.x_train.shape[0] // batch_size, epochs=250,\n",
        "    verbose=0, validation_data= (optimized_processed_data.x_valid,\n",
        "    optimized_processed_data.y_valid), callbacks=[checkpointer_optimized_cnn,\n",
        "    LearningRateScheduler(learningrate_schedule), EarlyStopping(min_delta=0.001, \n",
        "    patience=40)])\n",
        "\n",
        "optimized_cnn.load_weights(optimized_cnn_path_best)\n",
        "score_optimized_cnn = optimized_cnn.evaluate(optimized_processed_data.x_test, \n",
        "                                             optimized_processed_data.y_test, verbose=0)"
      ],
      "execution_count": null,
      "outputs": [
        {
          "output_type": "stream",
          "text": [
            "C:\\Users\\user\\AppData\\Roaming\\Python\\Python39\\site-packages\\keras\\engine\\training.py:1976: UserWarning: `Model.fit_generator` is deprecated and will be removed in a future version. Please use `Model.fit`, which supports generators.\n",
            "  warnings.warn('`Model.fit_generator` is deprecated and '\n"
          ],
          "name": "stderr"
        },
        {
          "output_type": "stream",
          "text": [
            "\n",
            "Epoch 00001: val_loss improved from inf to 1.91345, saving model to saved_weights\\optimized_cifar10_cnn_best.hdf5\n",
            "\n",
            "Epoch 00002: val_loss improved from 1.91345 to 1.51136, saving model to saved_weights\\optimized_cifar10_cnn_best.hdf5\n",
            "\n",
            "Epoch 00003: val_loss improved from 1.51136 to 0.96289, saving model to saved_weights\\optimized_cifar10_cnn_best.hdf5\n",
            "\n",
            "Epoch 00004: val_loss improved from 0.96289 to 0.89797, saving model to saved_weights\\optimized_cifar10_cnn_best.hdf5\n",
            "\n",
            "Epoch 00005: val_loss did not improve from 0.89797\n",
            "\n",
            "Epoch 00006: val_loss did not improve from 0.89797\n",
            "\n",
            "Epoch 00007: val_loss improved from 0.89797 to 0.80182, saving model to saved_weights\\optimized_cifar10_cnn_best.hdf5\n",
            "\n",
            "Epoch 00008: val_loss improved from 0.80182 to 0.73349, saving model to saved_weights\\optimized_cifar10_cnn_best.hdf5\n",
            "\n",
            "Epoch 00009: val_loss did not improve from 0.73349\n",
            "\n",
            "Epoch 00010: val_loss did not improve from 0.73349\n",
            "\n",
            "Epoch 00011: val_loss improved from 0.73349 to 0.67067, saving model to saved_weights\\optimized_cifar10_cnn_best.hdf5\n",
            "\n",
            "Epoch 00012: val_loss did not improve from 0.67067\n",
            "\n",
            "Epoch 00013: val_loss did not improve from 0.67067\n",
            "\n",
            "Epoch 00014: val_loss did not improve from 0.67067\n",
            "\n",
            "Epoch 00015: val_loss improved from 0.67067 to 0.66371, saving model to saved_weights\\optimized_cifar10_cnn_best.hdf5\n",
            "\n",
            "Epoch 00016: val_loss did not improve from 0.66371\n",
            "\n",
            "Epoch 00017: val_loss improved from 0.66371 to 0.62320, saving model to saved_weights\\optimized_cifar10_cnn_best.hdf5\n",
            "\n",
            "Epoch 00018: val_loss did not improve from 0.62320\n",
            "\n",
            "Epoch 00019: val_loss did not improve from 0.62320\n",
            "\n",
            "Epoch 00020: val_loss did not improve from 0.62320\n",
            "\n",
            "Epoch 00021: val_loss did not improve from 0.62320\n",
            "\n",
            "Epoch 00022: val_loss did not improve from 0.62320\n",
            "\n",
            "Epoch 00023: val_loss improved from 0.62320 to 0.60289, saving model to saved_weights\\optimized_cifar10_cnn_best.hdf5\n",
            "\n",
            "Epoch 00024: val_loss improved from 0.60289 to 0.59491, saving model to saved_weights\\optimized_cifar10_cnn_best.hdf5\n",
            "\n",
            "Epoch 00025: val_loss did not improve from 0.59491\n",
            "\n",
            "Epoch 00026: val_loss did not improve from 0.59491\n",
            "\n",
            "Epoch 00027: val_loss did not improve from 0.59491\n",
            "\n",
            "Epoch 00028: val_loss did not improve from 0.59491\n",
            "\n",
            "Epoch 00029: val_loss did not improve from 0.59491\n",
            "\n",
            "Epoch 00030: val_loss did not improve from 0.59491\n",
            "\n",
            "Epoch 00031: val_loss did not improve from 0.59491\n",
            "\n",
            "Epoch 00032: val_loss improved from 0.59491 to 0.54411, saving model to saved_weights\\optimized_cifar10_cnn_best.hdf5\n",
            "\n",
            "Epoch 00033: val_loss did not improve from 0.54411\n",
            "\n",
            "Epoch 00034: val_loss did not improve from 0.54411\n",
            "\n",
            "Epoch 00035: val_loss did not improve from 0.54411\n",
            "\n",
            "Epoch 00036: val_loss did not improve from 0.54411\n",
            "\n",
            "Epoch 00037: val_loss did not improve from 0.54411\n",
            "\n",
            "Epoch 00038: val_loss did not improve from 0.54411\n",
            "\n",
            "Epoch 00039: val_loss did not improve from 0.54411\n",
            "\n",
            "Epoch 00040: val_loss did not improve from 0.54411\n",
            "\n",
            "Epoch 00041: val_loss did not improve from 0.54411\n",
            "\n",
            "Epoch 00042: val_loss did not improve from 0.54411\n",
            "\n",
            "Epoch 00043: val_loss did not improve from 0.54411\n",
            "\n",
            "Epoch 00044: val_loss did not improve from 0.54411\n",
            "\n",
            "Epoch 00045: val_loss did not improve from 0.54411\n",
            "\n",
            "Epoch 00046: val_loss did not improve from 0.54411\n",
            "\n",
            "Epoch 00047: val_loss did not improve from 0.54411\n",
            "\n",
            "Epoch 00048: val_loss did not improve from 0.54411\n",
            "\n",
            "Epoch 00049: val_loss did not improve from 0.54411\n",
            "\n",
            "Epoch 00050: val_loss did not improve from 0.54411\n",
            "\n",
            "Epoch 00051: val_loss did not improve from 0.54411\n",
            "\n",
            "Epoch 00052: val_loss improved from 0.54411 to 0.53406, saving model to saved_weights\\optimized_cifar10_cnn_best.hdf5\n",
            "\n",
            "Epoch 00053: val_loss did not improve from 0.53406\n",
            "\n",
            "Epoch 00054: val_loss improved from 0.53406 to 0.52918, saving model to saved_weights\\optimized_cifar10_cnn_best.hdf5\n",
            "\n",
            "Epoch 00055: val_loss did not improve from 0.52918\n",
            "\n",
            "Epoch 00056: val_loss did not improve from 0.52918\n",
            "\n",
            "Epoch 00057: val_loss did not improve from 0.52918\n",
            "\n",
            "Epoch 00058: val_loss improved from 0.52918 to 0.52571, saving model to saved_weights\\optimized_cifar10_cnn_best.hdf5\n",
            "\n",
            "Epoch 00059: val_loss did not improve from 0.52571\n",
            "\n",
            "Epoch 00060: val_loss did not improve from 0.52571\n",
            "\n",
            "Epoch 00061: val_loss did not improve from 0.52571\n",
            "\n",
            "Epoch 00062: val_loss improved from 0.52571 to 0.49396, saving model to saved_weights\\optimized_cifar10_cnn_best.hdf5\n",
            "\n",
            "Epoch 00063: val_loss did not improve from 0.49396\n",
            "\n",
            "Epoch 00064: val_loss did not improve from 0.49396\n",
            "\n",
            "Epoch 00065: val_loss did not improve from 0.49396\n",
            "\n",
            "Epoch 00066: val_loss did not improve from 0.49396\n",
            "\n",
            "Epoch 00067: val_loss improved from 0.49396 to 0.47539, saving model to saved_weights\\optimized_cifar10_cnn_best.hdf5\n",
            "\n",
            "Epoch 00068: val_loss did not improve from 0.47539\n",
            "\n",
            "Epoch 00069: val_loss did not improve from 0.47539\n",
            "\n",
            "Epoch 00070: val_loss did not improve from 0.47539\n",
            "\n",
            "Epoch 00071: val_loss improved from 0.47539 to 0.47405, saving model to saved_weights\\optimized_cifar10_cnn_best.hdf5\n",
            "\n",
            "Epoch 00072: val_loss did not improve from 0.47405\n",
            "\n",
            "Epoch 00073: val_loss did not improve from 0.47405\n",
            "\n",
            "Epoch 00074: val_loss did not improve from 0.47405\n",
            "\n",
            "Epoch 00075: val_loss did not improve from 0.47405\n",
            "\n",
            "Epoch 00076: val_loss did not improve from 0.47405\n",
            "\n",
            "Epoch 00077: val_loss did not improve from 0.47405\n",
            "\n",
            "Epoch 00078: val_loss did not improve from 0.47405\n",
            "\n",
            "Epoch 00079: val_loss did not improve from 0.47405\n",
            "\n",
            "Epoch 00080: val_loss did not improve from 0.47405\n",
            "\n",
            "Epoch 00081: val_loss did not improve from 0.47405\n",
            "\n",
            "Epoch 00082: val_loss did not improve from 0.47405\n",
            "\n",
            "Epoch 00083: val_loss did not improve from 0.47405\n",
            "\n",
            "Epoch 00084: val_loss did not improve from 0.47405\n",
            "\n",
            "Epoch 00085: val_loss did not improve from 0.47405\n",
            "\n",
            "Epoch 00086: val_loss did not improve from 0.47405\n",
            "\n",
            "Epoch 00087: val_loss improved from 0.47405 to 0.45730, saving model to saved_weights\\optimized_cifar10_cnn_best.hdf5\n",
            "\n",
            "Epoch 00088: val_loss did not improve from 0.45730\n",
            "\n",
            "Epoch 00089: val_loss did not improve from 0.45730\n",
            "\n",
            "Epoch 00090: val_loss did not improve from 0.45730\n",
            "\n",
            "Epoch 00091: val_loss did not improve from 0.45730\n",
            "\n",
            "Epoch 00092: val_loss did not improve from 0.45730\n",
            "\n",
            "Epoch 00093: val_loss did not improve from 0.45730\n",
            "\n",
            "Epoch 00094: val_loss did not improve from 0.45730\n",
            "\n",
            "Epoch 00095: val_loss did not improve from 0.45730\n",
            "\n",
            "Epoch 00096: val_loss did not improve from 0.45730\n",
            "\n",
            "Epoch 00097: val_loss did not improve from 0.45730\n",
            "\n",
            "Epoch 00098: val_loss did not improve from 0.45730\n",
            "\n",
            "Epoch 00099: val_loss did not improve from 0.45730\n",
            "\n",
            "Epoch 00100: val_loss did not improve from 0.45730\n",
            "\n",
            "Epoch 00101: val_loss did not improve from 0.45730\n",
            "\n",
            "Epoch 00102: val_loss did not improve from 0.45730\n",
            "\n",
            "Epoch 00103: val_loss did not improve from 0.45730\n",
            "\n",
            "Epoch 00104: val_loss did not improve from 0.45730\n",
            "\n",
            "Epoch 00105: val_loss did not improve from 0.45730\n",
            "\n",
            "Epoch 00106: val_loss did not improve from 0.45730\n",
            "\n",
            "Epoch 00107: val_loss improved from 0.45730 to 0.45126, saving model to saved_weights\\optimized_cifar10_cnn_best.hdf5\n",
            "\n",
            "Epoch 00108: val_loss did not improve from 0.45126\n",
            "\n",
            "Epoch 00109: val_loss did not improve from 0.45126\n",
            "\n",
            "Epoch 00110: val_loss did not improve from 0.45126\n",
            "\n",
            "Epoch 00111: val_loss did not improve from 0.45126\n",
            "\n",
            "Epoch 00112: val_loss did not improve from 0.45126\n",
            "\n",
            "Epoch 00113: val_loss improved from 0.45126 to 0.44117, saving model to saved_weights\\optimized_cifar10_cnn_best.hdf5\n",
            "\n",
            "Epoch 00114: val_loss did not improve from 0.44117\n",
            "\n",
            "Epoch 00115: val_loss did not improve from 0.44117\n",
            "\n",
            "Epoch 00116: val_loss did not improve from 0.44117\n",
            "\n",
            "Epoch 00117: val_loss did not improve from 0.44117\n",
            "\n",
            "Epoch 00118: val_loss improved from 0.44117 to 0.44074, saving model to saved_weights\\optimized_cifar10_cnn_best.hdf5\n",
            "\n",
            "Epoch 00119: val_loss did not improve from 0.44074\n",
            "\n",
            "Epoch 00120: val_loss did not improve from 0.44074\n",
            "\n",
            "Epoch 00121: val_loss did not improve from 0.44074\n",
            "\n",
            "Epoch 00122: val_loss did not improve from 0.44074\n",
            "\n",
            "Epoch 00123: val_loss did not improve from 0.44074\n",
            "\n",
            "Epoch 00124: val_loss did not improve from 0.44074\n",
            "\n",
            "Epoch 00125: val_loss did not improve from 0.44074\n",
            "\n",
            "Epoch 00126: val_loss did not improve from 0.44074\n",
            "\n",
            "Epoch 00127: val_loss did not improve from 0.44074\n",
            "\n",
            "Epoch 00128: val_loss did not improve from 0.44074\n",
            "\n",
            "Epoch 00129: val_loss did not improve from 0.44074\n",
            "\n",
            "Epoch 00130: val_loss did not improve from 0.44074\n",
            "\n",
            "Epoch 00131: val_loss did not improve from 0.44074\n",
            "\n",
            "Epoch 00132: val_loss did not improve from 0.44074\n",
            "\n",
            "Epoch 00133: val_loss did not improve from 0.44074\n",
            "\n",
            "Epoch 00134: val_loss did not improve from 0.44074\n",
            "\n",
            "Epoch 00135: val_loss did not improve from 0.44074\n",
            "\n",
            "Epoch 00136: val_loss did not improve from 0.44074\n",
            "\n",
            "Epoch 00137: val_loss improved from 0.44074 to 0.42718, saving model to saved_weights\\optimized_cifar10_cnn_best.hdf5\n",
            "\n",
            "Epoch 00138: val_loss did not improve from 0.42718\n",
            "\n",
            "Epoch 00139: val_loss did not improve from 0.42718\n",
            "\n",
            "Epoch 00140: val_loss did not improve from 0.42718\n",
            "\n",
            "Epoch 00141: val_loss did not improve from 0.42718\n",
            "\n",
            "Epoch 00142: val_loss improved from 0.42718 to 0.40540, saving model to saved_weights\\optimized_cifar10_cnn_best.hdf5\n",
            "\n",
            "Epoch 00143: val_loss did not improve from 0.40540\n",
            "\n",
            "Epoch 00144: val_loss did not improve from 0.40540\n",
            "\n",
            "Epoch 00145: val_loss did not improve from 0.40540\n",
            "\n",
            "Epoch 00146: val_loss did not improve from 0.40540\n",
            "\n",
            "Epoch 00147: val_loss did not improve from 0.40540\n",
            "\n",
            "Epoch 00148: val_loss did not improve from 0.40540\n",
            "\n",
            "Epoch 00149: val_loss improved from 0.40540 to 0.40376, saving model to saved_weights\\optimized_cifar10_cnn_best.hdf5\n",
            "\n",
            "Epoch 00150: val_loss did not improve from 0.40376\n",
            "\n",
            "Epoch 00151: val_loss did not improve from 0.40376\n",
            "\n",
            "Epoch 00152: val_loss did not improve from 0.40376\n",
            "\n",
            "Epoch 00153: val_loss did not improve from 0.40376\n",
            "\n",
            "Epoch 00154: val_loss did not improve from 0.40376\n",
            "\n",
            "Epoch 00155: val_loss did not improve from 0.40376\n",
            "\n",
            "Epoch 00156: val_loss did not improve from 0.40376\n",
            "\n",
            "Epoch 00157: val_loss did not improve from 0.40376\n",
            "\n",
            "Epoch 00158: val_loss did not improve from 0.40376\n",
            "\n",
            "Epoch 00159: val_loss did not improve from 0.40376\n",
            "\n",
            "Epoch 00160: val_loss improved from 0.40376 to 0.39340, saving model to saved_weights\\optimized_cifar10_cnn_best.hdf5\n",
            "\n",
            "Epoch 00161: val_loss did not improve from 0.39340\n",
            "\n",
            "Epoch 00162: val_loss did not improve from 0.39340\n",
            "\n",
            "Epoch 00163: val_loss did not improve from 0.39340\n",
            "\n",
            "Epoch 00164: val_loss did not improve from 0.39340\n",
            "\n",
            "Epoch 00165: val_loss did not improve from 0.39340\n",
            "\n",
            "Epoch 00166: val_loss did not improve from 0.39340\n",
            "\n",
            "Epoch 00167: val_loss did not improve from 0.39340\n",
            "\n",
            "Epoch 00168: val_loss did not improve from 0.39340\n",
            "\n",
            "Epoch 00169: val_loss did not improve from 0.39340\n",
            "\n",
            "Epoch 00170: val_loss did not improve from 0.39340\n",
            "\n",
            "Epoch 00171: val_loss did not improve from 0.39340\n",
            "\n",
            "Epoch 00172: val_loss did not improve from 0.39340\n",
            "\n",
            "Epoch 00173: val_loss improved from 0.39340 to 0.38854, saving model to saved_weights\\optimized_cifar10_cnn_best.hdf5\n",
            "\n",
            "Epoch 00174: val_loss did not improve from 0.38854\n",
            "\n",
            "Epoch 00175: val_loss did not improve from 0.38854\n",
            "\n",
            "Epoch 00176: val_loss did not improve from 0.38854\n",
            "\n",
            "Epoch 00177: val_loss did not improve from 0.38854\n",
            "\n",
            "Epoch 00178: val_loss did not improve from 0.38854\n",
            "\n",
            "Epoch 00179: val_loss did not improve from 0.38854\n",
            "\n",
            "Epoch 00180: val_loss did not improve from 0.38854\n",
            "\n",
            "Epoch 00181: val_loss did not improve from 0.38854\n",
            "\n",
            "Epoch 00182: val_loss did not improve from 0.38854\n",
            "\n",
            "Epoch 00183: val_loss improved from 0.38854 to 0.37762, saving model to saved_weights\\optimized_cifar10_cnn_best.hdf5\n",
            "\n",
            "Epoch 00184: val_loss did not improve from 0.37762\n",
            "\n",
            "Epoch 00185: val_loss did not improve from 0.37762\n",
            "\n",
            "Epoch 00186: val_loss did not improve from 0.37762\n",
            "\n",
            "Epoch 00187: val_loss did not improve from 0.37762\n",
            "\n",
            "Epoch 00188: val_loss did not improve from 0.37762\n",
            "\n",
            "Epoch 00189: val_loss did not improve from 0.37762\n",
            "\n",
            "Epoch 00190: val_loss did not improve from 0.37762\n",
            "\n",
            "Epoch 00191: val_loss did not improve from 0.37762\n",
            "\n",
            "Epoch 00192: val_loss did not improve from 0.37762\n",
            "\n",
            "Epoch 00193: val_loss did not improve from 0.37762\n",
            "\n",
            "Epoch 00194: val_loss did not improve from 0.37762\n",
            "\n",
            "Epoch 00195: val_loss did not improve from 0.37762\n",
            "\n",
            "Epoch 00196: val_loss did not improve from 0.37762\n",
            "\n",
            "Epoch 00197: val_loss did not improve from 0.37762\n",
            "\n",
            "Epoch 00198: val_loss did not improve from 0.37762\n",
            "\n",
            "Epoch 00199: val_loss did not improve from 0.37762\n",
            "\n",
            "Epoch 00200: val_loss did not improve from 0.37762\n",
            "\n",
            "Epoch 00201: val_loss did not improve from 0.37762\n",
            "\n",
            "Epoch 00202: val_loss did not improve from 0.37762\n",
            "\n",
            "Epoch 00203: val_loss did not improve from 0.37762\n",
            "\n",
            "Epoch 00204: val_loss did not improve from 0.37762\n",
            "\n",
            "Epoch 00205: val_loss did not improve from 0.37762\n",
            "\n",
            "Epoch 00206: val_loss improved from 0.37762 to 0.37483, saving model to saved_weights\\optimized_cifar10_cnn_best.hdf5\n",
            "\n",
            "Epoch 00207: val_loss did not improve from 0.37483\n",
            "\n",
            "Epoch 00208: val_loss did not improve from 0.37483\n",
            "\n",
            "Epoch 00209: val_loss did not improve from 0.37483\n",
            "\n",
            "Epoch 00210: val_loss did not improve from 0.37483\n",
            "\n",
            "Epoch 00211: val_loss did not improve from 0.37483\n",
            "\n",
            "Epoch 00212: val_loss did not improve from 0.37483\n",
            "\n",
            "Epoch 00213: val_loss did not improve from 0.37483\n",
            "\n",
            "Epoch 00214: val_loss did not improve from 0.37483\n",
            "\n",
            "Epoch 00215: val_loss did not improve from 0.37483\n",
            "\n",
            "Epoch 00216: val_loss did not improve from 0.37483\n",
            "\n",
            "Epoch 00217: val_loss improved from 0.37483 to 0.37196, saving model to saved_weights\\optimized_cifar10_cnn_best.hdf5\n",
            "\n",
            "Epoch 00218: val_loss did not improve from 0.37196\n",
            "\n",
            "Epoch 00219: val_loss did not improve from 0.37196\n",
            "\n",
            "Epoch 00220: val_loss did not improve from 0.37196\n",
            "\n",
            "Epoch 00221: val_loss did not improve from 0.37196\n",
            "\n",
            "Epoch 00222: val_loss did not improve from 0.37196\n",
            "\n",
            "Epoch 00223: val_loss did not improve from 0.37196\n",
            "\n",
            "Epoch 00224: val_loss did not improve from 0.37196\n",
            "\n",
            "Epoch 00225: val_loss improved from 0.37196 to 0.36836, saving model to saved_weights\\optimized_cifar10_cnn_best.hdf5\n",
            "\n",
            "Epoch 00226: val_loss did not improve from 0.36836\n",
            "\n",
            "Epoch 00227: val_loss did not improve from 0.36836\n",
            "\n",
            "Epoch 00228: val_loss did not improve from 0.36836\n",
            "\n",
            "Epoch 00229: val_loss did not improve from 0.36836\n",
            "\n",
            "Epoch 00230: val_loss did not improve from 0.36836\n",
            "\n",
            "Epoch 00231: val_loss did not improve from 0.36836\n",
            "\n",
            "Epoch 00232: val_loss did not improve from 0.36836\n",
            "\n",
            "Epoch 00233: val_loss did not improve from 0.36836\n",
            "\n",
            "Epoch 00234: val_loss did not improve from 0.36836\n",
            "\n",
            "Epoch 00235: val_loss did not improve from 0.36836\n",
            "\n",
            "Epoch 00236: val_loss improved from 0.36836 to 0.36654, saving model to saved_weights\\optimized_cifar10_cnn_best.hdf5\n",
            "\n",
            "Epoch 00237: val_loss did not improve from 0.36654\n",
            "\n",
            "Epoch 00238: val_loss improved from 0.36654 to 0.36578, saving model to saved_weights\\optimized_cifar10_cnn_best.hdf5\n",
            "\n",
            "Epoch 00239: val_loss did not improve from 0.36578\n",
            "\n",
            "Epoch 00240: val_loss did not improve from 0.36578\n",
            "\n",
            "Epoch 00241: val_loss did not improve from 0.36578\n",
            "\n",
            "Epoch 00242: val_loss did not improve from 0.36578\n",
            "\n",
            "Epoch 00243: val_loss did not improve from 0.36578\n",
            "\n",
            "Epoch 00244: val_loss did not improve from 0.36578\n",
            "\n",
            "Epoch 00245: val_loss did not improve from 0.36578\n",
            "\n",
            "Epoch 00246: val_loss did not improve from 0.36578\n",
            "\n",
            "Epoch 00247: val_loss did not improve from 0.36578\n",
            "\n",
            "Epoch 00248: val_loss did not improve from 0.36578\n",
            "\n",
            "Epoch 00249: val_loss did not improve from 0.36578\n",
            "\n",
            "Epoch 00250: val_loss did not improve from 0.36578\n"
          ],
          "name": "stdout"
        }
      ]
    },
    {
      "cell_type": "code",
      "metadata": {
        "id": "-RHkH9yTU5rN",
        "outputId": "58c8fda2-38ad-4521-c9d0-436d16caf35d"
      },
      "source": [
        "visualize_training(hist_optimized_cnn)"
      ],
      "execution_count": null,
      "outputs": [
        {
          "output_type": "display_data",
          "data": {
            "text/plain": [
              "<Figure size 432x288 with 1 Axes>"
            ],
            "image/png": "[encoded data removed]"
          },
          "metadata": {
            "tags": [],
            "needs_background": "light"
          }
        },
        {
          "output_type": "display_data",
          "data": {
            "text/plain": [
              "<Figure size 432x288 with 1 Axes>"
            ],
            "image/png": "[encoded data removed]"
          },
          "metadata": {
            "tags": [],
            "needs_background": "light"
          }
        }
      ]
    },
    {
      "cell_type": "code",
      "metadata": {
        "id": "AMQZFqXVU5rN",
        "outputId": "55e62351-b1e9-4d20-a527-70f2663b72a3"
      },
      "source": [
        "print(\"Accuracy optimized cnn: {0:.2f}%\".format(score_optimized_cnn[1] * 100))"
      ],
      "execution_count": null,
      "outputs": [
        {
          "output_type": "stream",
          "text": [
            "Accuracy optimized cnn: 89.97%\n"
          ],
          "name": "stdout"
        }
      ]
    }
  ]
}